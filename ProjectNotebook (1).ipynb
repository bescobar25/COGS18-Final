{
 "cells": [
  {
   "cell_type": "markdown",
   "metadata": {},
   "source": [
    "# Project Description"
   ]
  },
  {
   "cell_type": "markdown",
   "metadata": {},
   "source": [
    "Hello! This project is a Zodiac telling chatbot who goes by the name Zodi the Zodiac Expert!\n",
    "\n",
    "Zodi works by first asking your name, introducing herself a bit, then going on to ask you what you know about Zodiac Signs. Don't know much or why they're relevant? Thats okay! when Zodi asks you just input 'Not really' and she'll pull some information for you tor ead about them!\n",
    "\n",
    "If you already know about them and answer 'Yes!', or read about sign first then answer 'Yes!', she will have you input your birthday, and with the help of some coding magic, she'll print our your sign with it's coresponding emoji symbol!"
   ]
  },
  {
   "cell_type": "markdown",
   "metadata": {},
   "source": [
    "## Imports\n"
   ]
  },
  {
   "cell_type": "code",
   "execution_count": 1,
   "metadata": {},
   "outputs": [],
   "source": [
    "from my_module.functions import *\n",
    "from my_module.test_functions import all_tests"
   ]
  },
  {
   "cell_type": "markdown",
   "metadata": {},
   "source": [
    "## Testing"
   ]
  },
  {
   "cell_type": "code",
   "execution_count": 2,
   "metadata": {},
   "outputs": [],
   "source": [
    "# test it out\n",
    "all_tests()"
   ]
  },
  {
   "cell_type": "markdown",
   "metadata": {},
   "source": [
    "## Disclaimers\n",
    "Zodi will give clear instructions as to what to input for certain parts, when asked to input one thing or another you must be sure to enter either option exactly as instructed to or the chat will end!\n"
   ]
  },
  {
   "cell_type": "markdown",
   "metadata": {},
   "source": [
    "## Zodiac Chatbot"
   ]
  },
  {
   "cell_type": "code",
   "execution_count": null,
   "metadata": {},
   "outputs": [],
   "source": [
    "begin()"
   ]
  },
  {
   "cell_type": "markdown",
   "metadata": {},
   "source": [
    "##### Extra Credit (*optional*)\n",
    "\n",
    "Replace all of this text with a brief explanation (~3 sentences) of: \n",
    "1. This class was my first time working with python, I never looked into it or anything before\n",
    "    but I was very excited for this cource!\n",
    "2. With having no prior background with python or coding in general, I had only learned what we\n",
    "    were taught in class, but for this project I really comitted and taught myself a few new things\n",
    "    I had to learn how to pull information from a website to have it print in the chat, so I learned\n",
    "    how to use BeautifulSoup to do so and had to learn how to inspect websites to be able to find exactly\n",
    "    which part of its code had the chunk of text that I needed. I also learned how to add in emojis into \n",
    "    the code which is something I didn't know how to do before. I also generally challened myself by having\n",
    "    this chatbot do a bit more thatn needed, instead of it just having someone input their birthday and \n",
    "    having the sign print our, I made it have the ability to conversate and talk more/give information \n",
    "    when needed. This project genuinly taught me so much more about code than I had known before"
   ]
  }
 ],
 "metadata": {
  "kernelspec": {
   "display_name": "Python 3 (ipykernel)",
   "language": "python",
   "name": "python3"
  },
  "language_info": {
   "codemirror_mode": {
    "name": "ipython",
    "version": 3
   },
   "file_extension": ".py",
   "mimetype": "text/x-python",
   "name": "python",
   "nbconvert_exporter": "python",
   "pygments_lexer": "ipython3",
   "version": "3.9.5"
  }
 },
 "nbformat": 4,
 "nbformat_minor": 2
}
